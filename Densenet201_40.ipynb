{
 "cells": [
  {
   "cell_type": "code",
   "execution_count": 1,
   "id": "b7778be4",
   "metadata": {},
   "outputs": [],
   "source": [
    "# Importing necessary libraries\n",
    "import os\n",
    "import numpy as np\n",
    "import pandas as pd\n",
    "import matplotlib.pyplot as plt\n",
    "import seaborn as sns\n",
    "from sklearn.model_selection import train_test_split\n",
    "from sklearn.metrics import confusion_matrix, classification_report\n",
    "import tensorflow as tf\n",
    "from tensorflow.keras.models import Sequential\n",
    "from tensorflow.keras.layers import Dense, GlobalAveragePooling2D, Dropout,BatchNormalization\n",
    "from tensorflow.keras.applications import DenseNet201\n",
    "from tensorflow.keras.preprocessing.image import ImageDataGenerator\n",
    "\n",
    "# Ignore Warnings\n",
    "import warnings\n",
    "warnings.filterwarnings(\"ignore\")"
   ]
  },
  {
   "cell_type": "code",
   "execution_count": 2,
   "id": "823d5f34",
   "metadata": {},
   "outputs": [],
   "source": [
    "# Load and preprocess data\n",
    "data_dir = \"C:/Users/OneDrive/Desktop/oral cancer dataset/Oral Cancer\"\n",
    "labels = os.listdir(data_dir)\n",
    "filepaths = []\n",
    "for label in labels:\n",
    "    folder_path = os.path.join(data_dir, label)\n",
    "    filepaths.extend([os.path.join(folder_path, file) for file in os.listdir(folder_path)])"
   ]
  },
  {
   "cell_type": "code",
   "execution_count": 3,
   "id": "428a4cf4",
   "metadata": {},
   "outputs": [],
   "source": [
    "# Create DataFrame\n",
    "df = pd.DataFrame({\"filepaths\": filepaths, \"labels\": [os.path.basename(os.path.dirname(path)) for path in filepaths]})"
   ]
  },
  {
   "cell_type": "code",
   "execution_count": 4,
   "id": "ea2a0e51",
   "metadata": {},
   "outputs": [],
   "source": [
    "# Train-test split\n",
    "train_df, test_df = train_test_split(df, train_size=0.7, shuffle=True, random_state=123)\n",
    "valid_df, test_df = train_test_split(test_df, test_size=1/3, shuffle=True, random_state=123)\n"
   ]
  },
  {
   "cell_type": "code",
   "execution_count": 5,
   "id": "f02c7685",
   "metadata": {},
   "outputs": [],
   "source": [
    "# Image parameters\n",
    "batch_size = 128\n",
    "img_size = (224, 224)\n"
   ]
  },
  {
   "cell_type": "code",
   "execution_count": 6,
   "id": "ebeee604",
   "metadata": {},
   "outputs": [
    {
     "name": "stdout",
     "output_type": "stream",
     "text": [
      "Found 7001 validated image filenames belonging to 2 classes.\n",
      "Found 2000 validated image filenames belonging to 2 classes.\n",
      "Found 1001 validated image filenames belonging to 2 classes.\n"
     ]
    }
   ],
   "source": [
    "# Data Generators\n",
    "datagen = ImageDataGenerator(rescale=1./255,\n",
    "                             rotation_range=20,\n",
    "                             width_shift_range=0.2,\n",
    "                             height_shift_range=0.2,\n",
    "                             shear_range=0.2,\n",
    "                             zoom_range=0.2,\n",
    "                             horizontal_flip=True,\n",
    "                             fill_mode='nearest')\n",
    "train_gen = datagen.flow_from_dataframe(\n",
    "    train_df,\n",
    "    x_col='filepaths',\n",
    "    y_col='labels',\n",
    "    target_size=img_size,\n",
    "    batch_size=batch_size,\n",
    "    class_mode='categorical',\n",
    "    shuffle=True\n",
    ")\n",
    "valid_gen = datagen.flow_from_dataframe(\n",
    "    valid_df,\n",
    "    x_col='filepaths',\n",
    "    y_col='labels',\n",
    "    target_size=img_size,\n",
    "    batch_size=batch_size,\n",
    "    class_mode='categorical',\n",
    "    shuffle=False\n",
    ")\n",
    "test_gen = datagen.flow_from_dataframe(\n",
    "    test_df,\n",
    "    x_col='filepaths',\n",
    "    y_col='labels',\n",
    "    target_size=img_size,\n",
    "    batch_size=batch_size,\n",
    "    class_mode='categorical',\n",
    "    shuffle=False\n",
    ")\n"
   ]
  },
  {
   "cell_type": "code",
   "execution_count": 7,
   "id": "e233f756",
   "metadata": {},
   "outputs": [],
   "source": [
    "# Base model\n",
    "base_model = DenseNet201(weights='imagenet', include_top=False, input_shape=(img_size[0], img_size[1], 3))\n",
    "for layer in base_model.layers:\n",
    "    layer.trainable = False"
   ]
  },
  {
   "cell_type": "code",
   "execution_count": 8,
   "id": "7a21387b",
   "metadata": {},
   "outputs": [],
   "source": [
    "# Custom head\n",
    "model = Sequential([\n",
    "    base_model,\n",
    "    GlobalAveragePooling2D(),\n",
    "    Dense(128, activation='relu'),\n",
    "    BatchNormalization(),\n",
    "    Dropout(0.36),\n",
    "    Dense(128, activation='relu'),\n",
    "    BatchNormalization(),\n",
    "    Dropout(0.36),\n",
    "    Dense(len(labels), activation='softmax')\n",
    "])"
   ]
  },
  {
   "cell_type": "code",
   "execution_count": 9,
   "id": "0f2abd56",
   "metadata": {},
   "outputs": [],
   "source": [
    "# Compile the model\n",
    "model.compile(optimizer='adam',\n",
    "              loss='categorical_crossentropy',\n",
    "              metrics=['accuracy'])\n"
   ]
  },
  {
   "cell_type": "code",
   "execution_count": 10,
   "id": "b9b53929",
   "metadata": {},
   "outputs": [
    {
     "name": "stdout",
     "output_type": "stream",
     "text": [
      "Model: \"sequential\"\n",
      "_________________________________________________________________\n",
      " Layer (type)                Output Shape              Param #   \n",
      "=================================================================\n",
      " densenet201 (Functional)    (None, 7, 7, 1920)        18321984  \n",
      "                                                                 \n",
      " global_average_pooling2d (  (None, 1920)              0         \n",
      " GlobalAveragePooling2D)                                         \n",
      "                                                                 \n",
      " dense (Dense)               (None, 128)               245888    \n",
      "                                                                 \n",
      " batch_normalization (Batch  (None, 128)               512       \n",
      " Normalization)                                                  \n",
      "                                                                 \n",
      " dropout (Dropout)           (None, 128)               0         \n",
      "                                                                 \n",
      " dense_1 (Dense)             (None, 128)               16512     \n",
      "                                                                 \n",
      " batch_normalization_1 (Bat  (None, 128)               512       \n",
      " chNormalization)                                                \n",
      "                                                                 \n",
      " dropout_1 (Dropout)         (None, 128)               0         \n",
      "                                                                 \n",
      " dense_2 (Dense)             (None, 2)                 258       \n",
      "                                                                 \n",
      "=================================================================\n",
      "Total params: 18585666 (70.90 MB)\n",
      "Trainable params: 263170 (1.00 MB)\n",
      "Non-trainable params: 18322496 (69.89 MB)\n",
      "_________________________________________________________________\n"
     ]
    }
   ],
   "source": [
    "# Model Summary\n",
    "model.summary()"
   ]
  },
  {
   "cell_type": "code",
   "execution_count": 11,
   "id": "aa0cc968",
   "metadata": {},
   "outputs": [
    {
     "name": "stdout",
     "output_type": "stream",
     "text": [
      "Epoch 1/40\n",
      "55/55 [==============================] - 5544s 102s/step - loss: 0.6946 - accuracy: 0.6909 - val_loss: 0.4948 - val_accuracy: 0.7640\n",
      "Epoch 2/40\n",
      "55/55 [==============================] - 756s 14s/step - loss: 0.4882 - accuracy: 0.7722 - val_loss: 0.4529 - val_accuracy: 0.7805\n",
      "Epoch 3/40\n",
      "55/55 [==============================] - 755s 14s/step - loss: 0.4408 - accuracy: 0.8042 - val_loss: 0.3859 - val_accuracy: 0.8215\n",
      "Epoch 4/40\n",
      "55/55 [==============================] - 756s 14s/step - loss: 0.3886 - accuracy: 0.8212 - val_loss: 0.3453 - val_accuracy: 0.8510\n",
      "Epoch 5/40\n",
      "55/55 [==============================] - 756s 14s/step - loss: 0.3680 - accuracy: 0.8386 - val_loss: 0.3222 - val_accuracy: 0.8625\n",
      "Epoch 6/40\n",
      "55/55 [==============================] - 757s 14s/step - loss: 0.3547 - accuracy: 0.8443 - val_loss: 0.3001 - val_accuracy: 0.8725\n",
      "Epoch 7/40\n",
      "55/55 [==============================] - 755s 14s/step - loss: 0.3265 - accuracy: 0.8597 - val_loss: 0.3203 - val_accuracy: 0.8665\n",
      "Epoch 8/40\n",
      "55/55 [==============================] - 755s 14s/step - loss: 0.3262 - accuracy: 0.8546 - val_loss: 0.3018 - val_accuracy: 0.8610\n",
      "Epoch 9/40\n",
      "55/55 [==============================] - 755s 14s/step - loss: 0.3046 - accuracy: 0.8656 - val_loss: 0.2680 - val_accuracy: 0.8895\n",
      "Epoch 10/40\n",
      "55/55 [==============================] - 753s 14s/step - loss: 0.2933 - accuracy: 0.8747 - val_loss: 0.3488 - val_accuracy: 0.8375\n",
      "Epoch 11/40\n",
      "55/55 [==============================] - 754s 14s/step - loss: 0.2756 - accuracy: 0.8812 - val_loss: 0.2658 - val_accuracy: 0.8890\n",
      "Epoch 12/40\n",
      "55/55 [==============================] - 754s 14s/step - loss: 0.2721 - accuracy: 0.8824 - val_loss: 0.2611 - val_accuracy: 0.8940\n",
      "Epoch 13/40\n",
      "55/55 [==============================] - 753s 14s/step - loss: 0.2667 - accuracy: 0.8887 - val_loss: 0.2442 - val_accuracy: 0.8935\n",
      "Epoch 14/40\n",
      "55/55 [==============================] - 753s 14s/step - loss: 0.2592 - accuracy: 0.8846 - val_loss: 0.2852 - val_accuracy: 0.8720\n",
      "Epoch 15/40\n",
      "55/55 [==============================] - 753s 14s/step - loss: 0.2623 - accuracy: 0.8893 - val_loss: 0.2888 - val_accuracy: 0.8775\n",
      "Epoch 16/40\n",
      "55/55 [==============================] - 753s 14s/step - loss: 0.2450 - accuracy: 0.8984 - val_loss: 0.2846 - val_accuracy: 0.8760\n",
      "Epoch 17/40\n",
      "55/55 [==============================] - 753s 14s/step - loss: 0.2502 - accuracy: 0.8962 - val_loss: 0.2785 - val_accuracy: 0.8785\n",
      "Epoch 18/40\n",
      "55/55 [==============================] - 753s 14s/step - loss: 0.2451 - accuracy: 0.9000 - val_loss: 0.2276 - val_accuracy: 0.9010\n",
      "Epoch 19/40\n",
      "55/55 [==============================] - 753s 14s/step - loss: 0.2390 - accuracy: 0.9017 - val_loss: 0.2314 - val_accuracy: 0.9015\n",
      "Epoch 20/40\n",
      "55/55 [==============================] - 753s 14s/step - loss: 0.2273 - accuracy: 0.9073 - val_loss: 0.2189 - val_accuracy: 0.9075\n",
      "Epoch 21/40\n",
      "55/55 [==============================] - 753s 14s/step - loss: 0.2324 - accuracy: 0.9020 - val_loss: 0.2523 - val_accuracy: 0.8820\n",
      "Epoch 22/40\n",
      "55/55 [==============================] - 754s 14s/step - loss: 0.2321 - accuracy: 0.9049 - val_loss: 0.2343 - val_accuracy: 0.9040\n",
      "Epoch 23/40\n",
      "55/55 [==============================] - 753s 14s/step - loss: 0.2208 - accuracy: 0.9052 - val_loss: 0.2242 - val_accuracy: 0.9010\n",
      "Epoch 24/40\n",
      "55/55 [==============================] - 755s 14s/step - loss: 0.2205 - accuracy: 0.9089 - val_loss: 0.2142 - val_accuracy: 0.9100\n",
      "Epoch 25/40\n",
      "55/55 [==============================] - 753s 14s/step - loss: 0.2286 - accuracy: 0.9036 - val_loss: 0.1985 - val_accuracy: 0.9250\n",
      "Epoch 26/40\n",
      "55/55 [==============================] - 755s 14s/step - loss: 0.2200 - accuracy: 0.9107 - val_loss: 0.2043 - val_accuracy: 0.9160\n",
      "Epoch 27/40\n",
      "55/55 [==============================] - 759s 14s/step - loss: 0.2008 - accuracy: 0.9157 - val_loss: 0.2287 - val_accuracy: 0.9065\n",
      "Epoch 28/40\n",
      "55/55 [==============================] - 753s 14s/step - loss: 0.1959 - accuracy: 0.9200 - val_loss: 0.2087 - val_accuracy: 0.9105\n",
      "Epoch 29/40\n",
      "55/55 [==============================] - 754s 14s/step - loss: 0.1917 - accuracy: 0.9206 - val_loss: 0.2092 - val_accuracy: 0.9085\n",
      "Epoch 30/40\n",
      "55/55 [==============================] - 753s 14s/step - loss: 0.2028 - accuracy: 0.9186 - val_loss: 0.1869 - val_accuracy: 0.9265\n",
      "Epoch 31/40\n",
      "55/55 [==============================] - 754s 14s/step - loss: 0.2019 - accuracy: 0.9147 - val_loss: 0.1834 - val_accuracy: 0.9245\n",
      "Epoch 32/40\n",
      "55/55 [==============================] - 752s 14s/step - loss: 0.1948 - accuracy: 0.9209 - val_loss: 0.2072 - val_accuracy: 0.9130\n",
      "Epoch 33/40\n",
      "55/55 [==============================] - 753s 14s/step - loss: 0.1902 - accuracy: 0.9237 - val_loss: 0.2023 - val_accuracy: 0.9160\n",
      "Epoch 34/40\n",
      "55/55 [==============================] - 765s 14s/step - loss: 0.2025 - accuracy: 0.9159 - val_loss: 0.2016 - val_accuracy: 0.9235\n",
      "Epoch 35/40\n",
      "55/55 [==============================] - 757s 14s/step - loss: 0.1948 - accuracy: 0.9193 - val_loss: 0.2341 - val_accuracy: 0.8995\n",
      "Epoch 36/40\n",
      "55/55 [==============================] - 756s 14s/step - loss: 0.1922 - accuracy: 0.9223 - val_loss: 0.1792 - val_accuracy: 0.9240\n",
      "Epoch 37/40\n",
      "55/55 [==============================] - 757s 14s/step - loss: 0.1977 - accuracy: 0.9200 - val_loss: 0.2336 - val_accuracy: 0.9015\n",
      "Epoch 38/40\n",
      "55/55 [==============================] - 757s 14s/step - loss: 0.1972 - accuracy: 0.9176 - val_loss: 0.1780 - val_accuracy: 0.9205\n",
      "Epoch 39/40\n",
      "55/55 [==============================] - 757s 14s/step - loss: 0.1849 - accuracy: 0.9217 - val_loss: 0.1667 - val_accuracy: 0.9360\n",
      "Epoch 40/40\n",
      "55/55 [==============================] - 757s 14s/step - loss: 0.1927 - accuracy: 0.9252 - val_loss: 0.1778 - val_accuracy: 0.9220\n"
     ]
    }
   ],
   "source": [
    "# Train the model\n",
    "history = model.fit(train_gen,\n",
    "                    epochs=40,\n",
    "                    validation_data=valid_gen)"
   ]
  },
  {
   "cell_type": "code",
   "execution_count": 12,
   "id": "c6916bdd",
   "metadata": {},
   "outputs": [
    {
     "name": "stdout",
     "output_type": "stream",
     "text": [
      "8/8 [==============================] - 88s 11s/step - loss: 0.1487 - accuracy: 0.9441\n",
      "Test Loss: 0.1487293541431427\n",
      "Test Accuracy: 0.9440559148788452\n"
     ]
    }
   ],
   "source": [
    "# Evaluate the model\n",
    "test_loss, test_acc = model.evaluate(test_gen)\n",
    "print(\"Test Loss:\", test_loss)\n",
    "print(\"Test Accuracy:\", test_acc)"
   ]
  },
  {
   "cell_type": "code",
   "execution_count": 13,
   "id": "f54e74ce",
   "metadata": {},
   "outputs": [
    {
     "name": "stdout",
     "output_type": "stream",
     "text": [
      "8/8 [==============================] - 108s 13s/step\n"
     ]
    }
   ],
   "source": [
    "# Confusion matrix\n",
    "y_pred = model.predict(test_gen)\n",
    "y_pred_classes = np.argmax(y_pred, axis=1)\n",
    "true_classes = test_gen.classes\n",
    "class_labels = list(test_gen.class_indices.keys())\n",
    "cm = confusion_matrix(true_classes, y_pred_classes)"
   ]
  },
  {
   "cell_type": "code",
   "execution_count": 14,
   "id": "d62a5f34",
   "metadata": {},
   "outputs": [
    {
     "data": {
      "image/png": "[encoded data removed]",
      "text/plain": [
       "<Figure size 800x800 with 2 Axes>"
      ]
     },
     "metadata": {},
     "output_type": "display_data"
    }
   ],
   "source": [
    "# Plot confusion matrix\n",
    "plt.figure(figsize=(8, 8))\n",
    "sns.heatmap(cm, annot=True, fmt='d', cmap='Blues', xticklabels=class_labels, yticklabels=class_labels)\n",
    "plt.xlabel('Predicted')\n",
    "plt.ylabel('Actual')\n",
    "plt.title('Confusion Matrix')\n",
    "plt.show()"
   ]
  },
  {
   "cell_type": "code",
   "execution_count": 15,
   "id": "96daad51",
   "metadata": {},
   "outputs": [
    {
     "name": "stdout",
     "output_type": "stream",
     "text": [
      "              precision    recall  f1-score   support\n",
      "\n",
      " oral_normal       0.92      0.96      0.94       507\n",
      "    oral_scc       0.96      0.91      0.93       494\n",
      "\n",
      "    accuracy                           0.94      1001\n",
      "   macro avg       0.94      0.94      0.94      1001\n",
      "weighted avg       0.94      0.94      0.94      1001\n",
      "\n"
     ]
    }
   ],
   "source": [
    "# Classification report\n",
    "print(classification_report(true_classes, y_pred_classes, target_names=class_labels))\n"
   ]
  },
  {
   "cell_type": "code",
   "execution_count": null,
   "id": "f2716074",
   "metadata": {},
   "outputs": [],
   "source": [
    "model.save(r'C:/Users/OneDrive/Desktop/Densenet 201/40 epochs/densenet201_40.h5')\n",
    "model1 = tf.keras.models.load_model(r'C:/Users/OneDrive/Desktop/Densenet 201/40 epochs/Densenet201_40.h5')"
   ]
  },
  {
   "cell_type": "code",
   "execution_count": 1,
   "id": "eb243bf5",
   "metadata": {},
   "outputs": [],
   "source": []
  },
  {
   "cell_type": "code",
   "execution_count": null,
   "id": "5a883e45",
   "metadata": {
    "scrolled": true
   },
   "outputs": [],
   "source": []
  },
  {
   "cell_type": "code",
   "execution_count": null,
   "id": "6e621392",
   "metadata": {},
   "outputs": [],
   "source": []
  }
 ],
 "metadata": {
  "kernelspec": {
   "display_name": "Python 3 (ipykernel)",
   "language": "python",
   "name": "python3"
  },
  "language_info": {
   "codemirror_mode": {
    "name": "ipython",
    "version": 3
   },
   "file_extension": ".py",
   "mimetype": "text/x-python",
   "name": "python",
   "nbconvert_exporter": "python",
   "pygments_lexer": "ipython3",
   "version": "3.9.13"
  }
 },
 "nbformat": 4,
 "nbformat_minor": 5
}
